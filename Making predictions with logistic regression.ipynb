{
 "cells": [
  {
   "cell_type": "code",
   "execution_count": 1,
   "metadata": {},
   "outputs": [
    {
     "name": "stdout",
     "output_type": "stream",
     "text": [
      "Requirement already satisfied: mysql-connector-python in c:\\users\\selma\\anaconda3\\lib\\site-packages (8.3.0)\n",
      "Note: you may need to restart the kernel to use updated packages.\n"
     ]
    }
   ],
   "source": [
    "pip install mysql-connector-python"
   ]
  },
  {
   "cell_type": "code",
   "execution_count": 2,
   "metadata": {},
   "outputs": [],
   "source": [
    "from mysql.connector import connect\n",
    "from getpass import getpass #pour le mot de passe SQL \n",
    "import pandas as pd"
   ]
  },
  {
   "cell_type": "code",
   "execution_count": 3,
   "metadata": {},
   "outputs": [],
   "source": [
    "db = connect(\n",
    "            host = \"localhost\",\n",
    "            user = \"root\",\n",
    "            passwd = getpass(\"Enter your password please\"),\n",
    "            database = \"sakila\")"
   ]
  },
  {
   "cell_type": "code",
   "execution_count": 4,
   "metadata": {},
   "outputs": [],
   "source": [
    "#Create a query or queries to extract the information you think may be relevant for building the prediction model. It should include some film features and some rental features.\n",
    "#Read the data into a Pandas dataframe."
   ]
  },
  {
   "cell_type": "code",
   "execution_count": 5,
   "metadata": {},
   "outputs": [
    {
     "name": "stderr",
     "output_type": "stream",
     "text": [
      "C:\\Users\\Selma\\AppData\\Local\\Temp\\ipykernel_3612\\3177947812.py:2: UserWarning: pandas only supports SQLAlchemy connectable (engine/connection) or database string URI or sqlite3 DBAPI2 connection. Other DBAPI2 objects are not tested. Please consider using SQLAlchemy.\n",
      "  df = pd.read_sql_query(query_1,db)\n"
     ]
    },
    {
     "data": {
      "text/html": [
       "<div>\n",
       "<style scoped>\n",
       "    .dataframe tbody tr th:only-of-type {\n",
       "        vertical-align: middle;\n",
       "    }\n",
       "\n",
       "    .dataframe tbody tr th {\n",
       "        vertical-align: top;\n",
       "    }\n",
       "\n",
       "    .dataframe thead th {\n",
       "        text-align: right;\n",
       "    }\n",
       "</style>\n",
       "<table border=\"1\" class=\"dataframe\">\n",
       "  <thead>\n",
       "    <tr style=\"text-align: right;\">\n",
       "      <th></th>\n",
       "      <th>title</th>\n",
       "      <th>rating</th>\n",
       "      <th>rental_rate</th>\n",
       "      <th>length</th>\n",
       "      <th>film_id</th>\n",
       "      <th>inventory_id</th>\n",
       "      <th>rental_id</th>\n",
       "      <th>rental_date</th>\n",
       "      <th>return_date</th>\n",
       "    </tr>\n",
       "  </thead>\n",
       "  <tbody>\n",
       "    <tr>\n",
       "      <th>0</th>\n",
       "      <td>ACADEMY DINOSAUR</td>\n",
       "      <td>PG</td>\n",
       "      <td>0.99</td>\n",
       "      <td>86</td>\n",
       "      <td>1</td>\n",
       "      <td>1</td>\n",
       "      <td>4863</td>\n",
       "      <td>2005-07-08 19:03:15</td>\n",
       "      <td>2005-07-11 21:29:15</td>\n",
       "    </tr>\n",
       "    <tr>\n",
       "      <th>1</th>\n",
       "      <td>ACADEMY DINOSAUR</td>\n",
       "      <td>PG</td>\n",
       "      <td>0.99</td>\n",
       "      <td>86</td>\n",
       "      <td>1</td>\n",
       "      <td>1</td>\n",
       "      <td>11433</td>\n",
       "      <td>2005-08-02 20:13:10</td>\n",
       "      <td>2005-08-11 21:35:10</td>\n",
       "    </tr>\n",
       "    <tr>\n",
       "      <th>2</th>\n",
       "      <td>ACADEMY DINOSAUR</td>\n",
       "      <td>PG</td>\n",
       "      <td>0.99</td>\n",
       "      <td>86</td>\n",
       "      <td>1</td>\n",
       "      <td>1</td>\n",
       "      <td>14714</td>\n",
       "      <td>2005-08-21 21:27:43</td>\n",
       "      <td>2005-08-30 22:26:43</td>\n",
       "    </tr>\n",
       "    <tr>\n",
       "      <th>3</th>\n",
       "      <td>ACADEMY DINOSAUR</td>\n",
       "      <td>PG</td>\n",
       "      <td>0.99</td>\n",
       "      <td>86</td>\n",
       "      <td>1</td>\n",
       "      <td>2</td>\n",
       "      <td>972</td>\n",
       "      <td>2005-05-30 20:21:07</td>\n",
       "      <td>2005-06-06 00:36:07</td>\n",
       "    </tr>\n",
       "    <tr>\n",
       "      <th>4</th>\n",
       "      <td>ACADEMY DINOSAUR</td>\n",
       "      <td>PG</td>\n",
       "      <td>0.99</td>\n",
       "      <td>86</td>\n",
       "      <td>1</td>\n",
       "      <td>2</td>\n",
       "      <td>2117</td>\n",
       "      <td>2005-06-17 20:24:00</td>\n",
       "      <td>2005-06-23 17:45:00</td>\n",
       "    </tr>\n",
       "    <tr>\n",
       "      <th>...</th>\n",
       "      <td>...</td>\n",
       "      <td>...</td>\n",
       "      <td>...</td>\n",
       "      <td>...</td>\n",
       "      <td>...</td>\n",
       "      <td>...</td>\n",
       "      <td>...</td>\n",
       "      <td>...</td>\n",
       "      <td>...</td>\n",
       "    </tr>\n",
       "    <tr>\n",
       "      <th>16039</th>\n",
       "      <td>ZORRO ARK</td>\n",
       "      <td>NC-17</td>\n",
       "      <td>4.99</td>\n",
       "      <td>50</td>\n",
       "      <td>1000</td>\n",
       "      <td>4581</td>\n",
       "      <td>711</td>\n",
       "      <td>2005-05-29 03:49:03</td>\n",
       "      <td>2005-05-31 08:29:03</td>\n",
       "    </tr>\n",
       "    <tr>\n",
       "      <th>16040</th>\n",
       "      <td>ZORRO ARK</td>\n",
       "      <td>NC-17</td>\n",
       "      <td>4.99</td>\n",
       "      <td>50</td>\n",
       "      <td>1000</td>\n",
       "      <td>4581</td>\n",
       "      <td>1493</td>\n",
       "      <td>2005-06-15 21:50:32</td>\n",
       "      <td>2005-06-17 01:02:32</td>\n",
       "    </tr>\n",
       "    <tr>\n",
       "      <th>16041</th>\n",
       "      <td>ZORRO ARK</td>\n",
       "      <td>NC-17</td>\n",
       "      <td>4.99</td>\n",
       "      <td>50</td>\n",
       "      <td>1000</td>\n",
       "      <td>4581</td>\n",
       "      <td>6712</td>\n",
       "      <td>2005-07-12 13:24:47</td>\n",
       "      <td>2005-07-20 09:35:47</td>\n",
       "    </tr>\n",
       "    <tr>\n",
       "      <th>16042</th>\n",
       "      <td>ZORRO ARK</td>\n",
       "      <td>NC-17</td>\n",
       "      <td>4.99</td>\n",
       "      <td>50</td>\n",
       "      <td>1000</td>\n",
       "      <td>4581</td>\n",
       "      <td>9701</td>\n",
       "      <td>2005-07-31 07:32:21</td>\n",
       "      <td>2005-08-01 05:07:21</td>\n",
       "    </tr>\n",
       "    <tr>\n",
       "      <th>16043</th>\n",
       "      <td>ZORRO ARK</td>\n",
       "      <td>NC-17</td>\n",
       "      <td>4.99</td>\n",
       "      <td>50</td>\n",
       "      <td>1000</td>\n",
       "      <td>4581</td>\n",
       "      <td>12894</td>\n",
       "      <td>2005-08-19 03:49:28</td>\n",
       "      <td>2005-08-25 01:51:28</td>\n",
       "    </tr>\n",
       "  </tbody>\n",
       "</table>\n",
       "<p>16044 rows × 9 columns</p>\n",
       "</div>"
      ],
      "text/plain": [
       "                  title rating  rental_rate  length  film_id  inventory_id  \\\n",
       "0      ACADEMY DINOSAUR     PG         0.99      86        1             1   \n",
       "1      ACADEMY DINOSAUR     PG         0.99      86        1             1   \n",
       "2      ACADEMY DINOSAUR     PG         0.99      86        1             1   \n",
       "3      ACADEMY DINOSAUR     PG         0.99      86        1             2   \n",
       "4      ACADEMY DINOSAUR     PG         0.99      86        1             2   \n",
       "...                 ...    ...          ...     ...      ...           ...   \n",
       "16039         ZORRO ARK  NC-17         4.99      50     1000          4581   \n",
       "16040         ZORRO ARK  NC-17         4.99      50     1000          4581   \n",
       "16041         ZORRO ARK  NC-17         4.99      50     1000          4581   \n",
       "16042         ZORRO ARK  NC-17         4.99      50     1000          4581   \n",
       "16043         ZORRO ARK  NC-17         4.99      50     1000          4581   \n",
       "\n",
       "       rental_id         rental_date         return_date  \n",
       "0           4863 2005-07-08 19:03:15 2005-07-11 21:29:15  \n",
       "1          11433 2005-08-02 20:13:10 2005-08-11 21:35:10  \n",
       "2          14714 2005-08-21 21:27:43 2005-08-30 22:26:43  \n",
       "3            972 2005-05-30 20:21:07 2005-06-06 00:36:07  \n",
       "4           2117 2005-06-17 20:24:00 2005-06-23 17:45:00  \n",
       "...          ...                 ...                 ...  \n",
       "16039        711 2005-05-29 03:49:03 2005-05-31 08:29:03  \n",
       "16040       1493 2005-06-15 21:50:32 2005-06-17 01:02:32  \n",
       "16041       6712 2005-07-12 13:24:47 2005-07-20 09:35:47  \n",
       "16042       9701 2005-07-31 07:32:21 2005-08-01 05:07:21  \n",
       "16043      12894 2005-08-19 03:49:28 2005-08-25 01:51:28  \n",
       "\n",
       "[16044 rows x 9 columns]"
      ]
     },
     "execution_count": 5,
     "metadata": {},
     "output_type": "execute_result"
    }
   ],
   "source": [
    "query_1 = \"select * from film_rental_1\"\n",
    "df = pd.read_sql_query(query_1,db)\n",
    "df"
   ]
  },
  {
   "cell_type": "code",
   "execution_count": 6,
   "metadata": {},
   "outputs": [],
   "source": [
    "#Create a query to get the list of films and a boolean indicating if it was rented last month. This would be our target variable."
   ]
  },
  {
   "cell_type": "code",
   "execution_count": 7,
   "metadata": {},
   "outputs": [
    {
     "name": "stderr",
     "output_type": "stream",
     "text": [
      "C:\\Users\\Selma\\AppData\\Local\\Temp\\ipykernel_3612\\3626275099.py:2: UserWarning: pandas only supports SQLAlchemy connectable (engine/connection) or database string URI or sqlite3 DBAPI2 connection. Other DBAPI2 objects are not tested. Please consider using SQLAlchemy.\n",
      "  df_2 = pd.read_sql_query(query_2,db)\n"
     ]
    },
    {
     "data": {
      "text/html": [
       "<div>\n",
       "<style scoped>\n",
       "    .dataframe tbody tr th:only-of-type {\n",
       "        vertical-align: middle;\n",
       "    }\n",
       "\n",
       "    .dataframe tbody tr th {\n",
       "        vertical-align: top;\n",
       "    }\n",
       "\n",
       "    .dataframe thead th {\n",
       "        text-align: right;\n",
       "    }\n",
       "</style>\n",
       "<table border=\"1\" class=\"dataframe\">\n",
       "  <thead>\n",
       "    <tr style=\"text-align: right;\">\n",
       "      <th></th>\n",
       "      <th>title</th>\n",
       "      <th>rating</th>\n",
       "      <th>rental_rate</th>\n",
       "      <th>length</th>\n",
       "      <th>film_id</th>\n",
       "      <th>inventory_id</th>\n",
       "      <th>rental_id</th>\n",
       "      <th>rental_date</th>\n",
       "      <th>return_date</th>\n",
       "      <th>rented_last_month</th>\n",
       "    </tr>\n",
       "  </thead>\n",
       "  <tbody>\n",
       "    <tr>\n",
       "      <th>0</th>\n",
       "      <td>ACADEMY DINOSAUR</td>\n",
       "      <td>PG</td>\n",
       "      <td>0.99</td>\n",
       "      <td>86</td>\n",
       "      <td>1</td>\n",
       "      <td>1</td>\n",
       "      <td>4863</td>\n",
       "      <td>2005-07-08 19:03:15</td>\n",
       "      <td>2005-07-11 21:29:15</td>\n",
       "      <td>0</td>\n",
       "    </tr>\n",
       "    <tr>\n",
       "      <th>1</th>\n",
       "      <td>ACADEMY DINOSAUR</td>\n",
       "      <td>PG</td>\n",
       "      <td>0.99</td>\n",
       "      <td>86</td>\n",
       "      <td>1</td>\n",
       "      <td>1</td>\n",
       "      <td>11433</td>\n",
       "      <td>2005-08-02 20:13:10</td>\n",
       "      <td>2005-08-11 21:35:10</td>\n",
       "      <td>1</td>\n",
       "    </tr>\n",
       "    <tr>\n",
       "      <th>2</th>\n",
       "      <td>ACADEMY DINOSAUR</td>\n",
       "      <td>PG</td>\n",
       "      <td>0.99</td>\n",
       "      <td>86</td>\n",
       "      <td>1</td>\n",
       "      <td>1</td>\n",
       "      <td>14714</td>\n",
       "      <td>2005-08-21 21:27:43</td>\n",
       "      <td>2005-08-30 22:26:43</td>\n",
       "      <td>1</td>\n",
       "    </tr>\n",
       "    <tr>\n",
       "      <th>3</th>\n",
       "      <td>ACADEMY DINOSAUR</td>\n",
       "      <td>PG</td>\n",
       "      <td>0.99</td>\n",
       "      <td>86</td>\n",
       "      <td>1</td>\n",
       "      <td>2</td>\n",
       "      <td>972</td>\n",
       "      <td>2005-05-30 20:21:07</td>\n",
       "      <td>2005-06-06 00:36:07</td>\n",
       "      <td>0</td>\n",
       "    </tr>\n",
       "    <tr>\n",
       "      <th>4</th>\n",
       "      <td>ACADEMY DINOSAUR</td>\n",
       "      <td>PG</td>\n",
       "      <td>0.99</td>\n",
       "      <td>86</td>\n",
       "      <td>1</td>\n",
       "      <td>2</td>\n",
       "      <td>2117</td>\n",
       "      <td>2005-06-17 20:24:00</td>\n",
       "      <td>2005-06-23 17:45:00</td>\n",
       "      <td>0</td>\n",
       "    </tr>\n",
       "    <tr>\n",
       "      <th>...</th>\n",
       "      <td>...</td>\n",
       "      <td>...</td>\n",
       "      <td>...</td>\n",
       "      <td>...</td>\n",
       "      <td>...</td>\n",
       "      <td>...</td>\n",
       "      <td>...</td>\n",
       "      <td>...</td>\n",
       "      <td>...</td>\n",
       "      <td>...</td>\n",
       "    </tr>\n",
       "    <tr>\n",
       "      <th>16039</th>\n",
       "      <td>ZORRO ARK</td>\n",
       "      <td>NC-17</td>\n",
       "      <td>4.99</td>\n",
       "      <td>50</td>\n",
       "      <td>1000</td>\n",
       "      <td>4581</td>\n",
       "      <td>711</td>\n",
       "      <td>2005-05-29 03:49:03</td>\n",
       "      <td>2005-05-31 08:29:03</td>\n",
       "      <td>0</td>\n",
       "    </tr>\n",
       "    <tr>\n",
       "      <th>16040</th>\n",
       "      <td>ZORRO ARK</td>\n",
       "      <td>NC-17</td>\n",
       "      <td>4.99</td>\n",
       "      <td>50</td>\n",
       "      <td>1000</td>\n",
       "      <td>4581</td>\n",
       "      <td>1493</td>\n",
       "      <td>2005-06-15 21:50:32</td>\n",
       "      <td>2005-06-17 01:02:32</td>\n",
       "      <td>0</td>\n",
       "    </tr>\n",
       "    <tr>\n",
       "      <th>16041</th>\n",
       "      <td>ZORRO ARK</td>\n",
       "      <td>NC-17</td>\n",
       "      <td>4.99</td>\n",
       "      <td>50</td>\n",
       "      <td>1000</td>\n",
       "      <td>4581</td>\n",
       "      <td>6712</td>\n",
       "      <td>2005-07-12 13:24:47</td>\n",
       "      <td>2005-07-20 09:35:47</td>\n",
       "      <td>0</td>\n",
       "    </tr>\n",
       "    <tr>\n",
       "      <th>16042</th>\n",
       "      <td>ZORRO ARK</td>\n",
       "      <td>NC-17</td>\n",
       "      <td>4.99</td>\n",
       "      <td>50</td>\n",
       "      <td>1000</td>\n",
       "      <td>4581</td>\n",
       "      <td>9701</td>\n",
       "      <td>2005-07-31 07:32:21</td>\n",
       "      <td>2005-08-01 05:07:21</td>\n",
       "      <td>0</td>\n",
       "    </tr>\n",
       "    <tr>\n",
       "      <th>16043</th>\n",
       "      <td>ZORRO ARK</td>\n",
       "      <td>NC-17</td>\n",
       "      <td>4.99</td>\n",
       "      <td>50</td>\n",
       "      <td>1000</td>\n",
       "      <td>4581</td>\n",
       "      <td>12894</td>\n",
       "      <td>2005-08-19 03:49:28</td>\n",
       "      <td>2005-08-25 01:51:28</td>\n",
       "      <td>1</td>\n",
       "    </tr>\n",
       "  </tbody>\n",
       "</table>\n",
       "<p>16044 rows × 10 columns</p>\n",
       "</div>"
      ],
      "text/plain": [
       "                  title rating  rental_rate  length  film_id  inventory_id  \\\n",
       "0      ACADEMY DINOSAUR     PG         0.99      86        1             1   \n",
       "1      ACADEMY DINOSAUR     PG         0.99      86        1             1   \n",
       "2      ACADEMY DINOSAUR     PG         0.99      86        1             1   \n",
       "3      ACADEMY DINOSAUR     PG         0.99      86        1             2   \n",
       "4      ACADEMY DINOSAUR     PG         0.99      86        1             2   \n",
       "...                 ...    ...          ...     ...      ...           ...   \n",
       "16039         ZORRO ARK  NC-17         4.99      50     1000          4581   \n",
       "16040         ZORRO ARK  NC-17         4.99      50     1000          4581   \n",
       "16041         ZORRO ARK  NC-17         4.99      50     1000          4581   \n",
       "16042         ZORRO ARK  NC-17         4.99      50     1000          4581   \n",
       "16043         ZORRO ARK  NC-17         4.99      50     1000          4581   \n",
       "\n",
       "       rental_id         rental_date         return_date rented_last_month  \n",
       "0           4863 2005-07-08 19:03:15 2005-07-11 21:29:15                 0  \n",
       "1          11433 2005-08-02 20:13:10 2005-08-11 21:35:10                 1  \n",
       "2          14714 2005-08-21 21:27:43 2005-08-30 22:26:43                 1  \n",
       "3            972 2005-05-30 20:21:07 2005-06-06 00:36:07                 0  \n",
       "4           2117 2005-06-17 20:24:00 2005-06-23 17:45:00                 0  \n",
       "...          ...                 ...                 ...               ...  \n",
       "16039        711 2005-05-29 03:49:03 2005-05-31 08:29:03                 0  \n",
       "16040       1493 2005-06-15 21:50:32 2005-06-17 01:02:32                 0  \n",
       "16041       6712 2005-07-12 13:24:47 2005-07-20 09:35:47                 0  \n",
       "16042       9701 2005-07-31 07:32:21 2005-08-01 05:07:21                 0  \n",
       "16043      12894 2005-08-19 03:49:28 2005-08-25 01:51:28                 1  \n",
       "\n",
       "[16044 rows x 10 columns]"
      ]
     },
     "execution_count": 7,
     "metadata": {},
     "output_type": "execute_result"
    }
   ],
   "source": [
    "query_2 = \"select * from rented_last_month_\"\n",
    "df_2 = pd.read_sql_query(query_2,db)\n",
    "df_2"
   ]
  },
  {
   "cell_type": "code",
   "execution_count": null,
   "metadata": {},
   "outputs": [],
   "source": []
  },
  {
   "cell_type": "code",
   "execution_count": 8,
   "metadata": {},
   "outputs": [
    {
     "name": "stdout",
     "output_type": "stream",
     "text": [
      "<class 'pandas.core.frame.DataFrame'>\n",
      "RangeIndex: 16044 entries, 0 to 16043\n",
      "Data columns (total 10 columns):\n",
      " #   Column             Non-Null Count  Dtype         \n",
      "---  ------             --------------  -----         \n",
      " 0   title              16044 non-null  object        \n",
      " 1   rating             16044 non-null  object        \n",
      " 2   rental_rate        16044 non-null  float64       \n",
      " 3   length             16044 non-null  int64         \n",
      " 4   film_id            16044 non-null  int64         \n",
      " 5   inventory_id       16044 non-null  int64         \n",
      " 6   rental_id          16044 non-null  int64         \n",
      " 7   rental_date        16044 non-null  datetime64[ns]\n",
      " 8   return_date        15861 non-null  datetime64[ns]\n",
      " 9   rented_last_month  16044 non-null  object        \n",
      "dtypes: datetime64[ns](2), float64(1), int64(4), object(3)\n",
      "memory usage: 1.2+ MB\n"
     ]
    }
   ],
   "source": [
    "df_2.info()"
   ]
  },
  {
   "cell_type": "code",
   "execution_count": 9,
   "metadata": {},
   "outputs": [],
   "source": [
    "df_2['rented_last_month'] = df_2['rented_last_month'].astype('int')\n",
    "df_2['film_id'] = df_2['film_id'].astype('str')"
   ]
  },
  {
   "cell_type": "code",
   "execution_count": 10,
   "metadata": {},
   "outputs": [
    {
     "data": {
      "text/html": [
       "<div>\n",
       "<style scoped>\n",
       "    .dataframe tbody tr th:only-of-type {\n",
       "        vertical-align: middle;\n",
       "    }\n",
       "\n",
       "    .dataframe tbody tr th {\n",
       "        vertical-align: top;\n",
       "    }\n",
       "\n",
       "    .dataframe thead th {\n",
       "        text-align: right;\n",
       "    }\n",
       "</style>\n",
       "<table border=\"1\" class=\"dataframe\">\n",
       "  <thead>\n",
       "    <tr style=\"text-align: right;\">\n",
       "      <th></th>\n",
       "      <th>title</th>\n",
       "      <th>rating</th>\n",
       "      <th>rental_rate</th>\n",
       "      <th>length</th>\n",
       "      <th>film_id</th>\n",
       "      <th>inventory_id</th>\n",
       "      <th>rental_id</th>\n",
       "      <th>rental_date</th>\n",
       "      <th>return_date</th>\n",
       "      <th>rented_last_month</th>\n",
       "    </tr>\n",
       "  </thead>\n",
       "  <tbody>\n",
       "    <tr>\n",
       "      <th>0</th>\n",
       "      <td>ACADEMY DINOSAUR</td>\n",
       "      <td>PG</td>\n",
       "      <td>0.99</td>\n",
       "      <td>86</td>\n",
       "      <td>1</td>\n",
       "      <td>1</td>\n",
       "      <td>4863</td>\n",
       "      <td>2005-07-08 19:03:15</td>\n",
       "      <td>2005-07-11 21:29:15</td>\n",
       "      <td>0</td>\n",
       "    </tr>\n",
       "    <tr>\n",
       "      <th>1</th>\n",
       "      <td>ACADEMY DINOSAUR</td>\n",
       "      <td>PG</td>\n",
       "      <td>0.99</td>\n",
       "      <td>86</td>\n",
       "      <td>1</td>\n",
       "      <td>1</td>\n",
       "      <td>11433</td>\n",
       "      <td>2005-08-02 20:13:10</td>\n",
       "      <td>2005-08-11 21:35:10</td>\n",
       "      <td>1</td>\n",
       "    </tr>\n",
       "    <tr>\n",
       "      <th>2</th>\n",
       "      <td>ACADEMY DINOSAUR</td>\n",
       "      <td>PG</td>\n",
       "      <td>0.99</td>\n",
       "      <td>86</td>\n",
       "      <td>1</td>\n",
       "      <td>1</td>\n",
       "      <td>14714</td>\n",
       "      <td>2005-08-21 21:27:43</td>\n",
       "      <td>2005-08-30 22:26:43</td>\n",
       "      <td>1</td>\n",
       "    </tr>\n",
       "    <tr>\n",
       "      <th>3</th>\n",
       "      <td>ACADEMY DINOSAUR</td>\n",
       "      <td>PG</td>\n",
       "      <td>0.99</td>\n",
       "      <td>86</td>\n",
       "      <td>1</td>\n",
       "      <td>2</td>\n",
       "      <td>972</td>\n",
       "      <td>2005-05-30 20:21:07</td>\n",
       "      <td>2005-06-06 00:36:07</td>\n",
       "      <td>0</td>\n",
       "    </tr>\n",
       "    <tr>\n",
       "      <th>4</th>\n",
       "      <td>ACADEMY DINOSAUR</td>\n",
       "      <td>PG</td>\n",
       "      <td>0.99</td>\n",
       "      <td>86</td>\n",
       "      <td>1</td>\n",
       "      <td>2</td>\n",
       "      <td>2117</td>\n",
       "      <td>2005-06-17 20:24:00</td>\n",
       "      <td>2005-06-23 17:45:00</td>\n",
       "      <td>0</td>\n",
       "    </tr>\n",
       "    <tr>\n",
       "      <th>...</th>\n",
       "      <td>...</td>\n",
       "      <td>...</td>\n",
       "      <td>...</td>\n",
       "      <td>...</td>\n",
       "      <td>...</td>\n",
       "      <td>...</td>\n",
       "      <td>...</td>\n",
       "      <td>...</td>\n",
       "      <td>...</td>\n",
       "      <td>...</td>\n",
       "    </tr>\n",
       "    <tr>\n",
       "      <th>16039</th>\n",
       "      <td>ZORRO ARK</td>\n",
       "      <td>NC-17</td>\n",
       "      <td>4.99</td>\n",
       "      <td>50</td>\n",
       "      <td>1000</td>\n",
       "      <td>4581</td>\n",
       "      <td>711</td>\n",
       "      <td>2005-05-29 03:49:03</td>\n",
       "      <td>2005-05-31 08:29:03</td>\n",
       "      <td>0</td>\n",
       "    </tr>\n",
       "    <tr>\n",
       "      <th>16040</th>\n",
       "      <td>ZORRO ARK</td>\n",
       "      <td>NC-17</td>\n",
       "      <td>4.99</td>\n",
       "      <td>50</td>\n",
       "      <td>1000</td>\n",
       "      <td>4581</td>\n",
       "      <td>1493</td>\n",
       "      <td>2005-06-15 21:50:32</td>\n",
       "      <td>2005-06-17 01:02:32</td>\n",
       "      <td>0</td>\n",
       "    </tr>\n",
       "    <tr>\n",
       "      <th>16041</th>\n",
       "      <td>ZORRO ARK</td>\n",
       "      <td>NC-17</td>\n",
       "      <td>4.99</td>\n",
       "      <td>50</td>\n",
       "      <td>1000</td>\n",
       "      <td>4581</td>\n",
       "      <td>6712</td>\n",
       "      <td>2005-07-12 13:24:47</td>\n",
       "      <td>2005-07-20 09:35:47</td>\n",
       "      <td>0</td>\n",
       "    </tr>\n",
       "    <tr>\n",
       "      <th>16042</th>\n",
       "      <td>ZORRO ARK</td>\n",
       "      <td>NC-17</td>\n",
       "      <td>4.99</td>\n",
       "      <td>50</td>\n",
       "      <td>1000</td>\n",
       "      <td>4581</td>\n",
       "      <td>9701</td>\n",
       "      <td>2005-07-31 07:32:21</td>\n",
       "      <td>2005-08-01 05:07:21</td>\n",
       "      <td>0</td>\n",
       "    </tr>\n",
       "    <tr>\n",
       "      <th>16043</th>\n",
       "      <td>ZORRO ARK</td>\n",
       "      <td>NC-17</td>\n",
       "      <td>4.99</td>\n",
       "      <td>50</td>\n",
       "      <td>1000</td>\n",
       "      <td>4581</td>\n",
       "      <td>12894</td>\n",
       "      <td>2005-08-19 03:49:28</td>\n",
       "      <td>2005-08-25 01:51:28</td>\n",
       "      <td>1</td>\n",
       "    </tr>\n",
       "  </tbody>\n",
       "</table>\n",
       "<p>16044 rows × 10 columns</p>\n",
       "</div>"
      ],
      "text/plain": [
       "                  title rating  rental_rate  length film_id  inventory_id  \\\n",
       "0      ACADEMY DINOSAUR     PG         0.99      86       1             1   \n",
       "1      ACADEMY DINOSAUR     PG         0.99      86       1             1   \n",
       "2      ACADEMY DINOSAUR     PG         0.99      86       1             1   \n",
       "3      ACADEMY DINOSAUR     PG         0.99      86       1             2   \n",
       "4      ACADEMY DINOSAUR     PG         0.99      86       1             2   \n",
       "...                 ...    ...          ...     ...     ...           ...   \n",
       "16039         ZORRO ARK  NC-17         4.99      50    1000          4581   \n",
       "16040         ZORRO ARK  NC-17         4.99      50    1000          4581   \n",
       "16041         ZORRO ARK  NC-17         4.99      50    1000          4581   \n",
       "16042         ZORRO ARK  NC-17         4.99      50    1000          4581   \n",
       "16043         ZORRO ARK  NC-17         4.99      50    1000          4581   \n",
       "\n",
       "       rental_id         rental_date         return_date  rented_last_month  \n",
       "0           4863 2005-07-08 19:03:15 2005-07-11 21:29:15                  0  \n",
       "1          11433 2005-08-02 20:13:10 2005-08-11 21:35:10                  1  \n",
       "2          14714 2005-08-21 21:27:43 2005-08-30 22:26:43                  1  \n",
       "3            972 2005-05-30 20:21:07 2005-06-06 00:36:07                  0  \n",
       "4           2117 2005-06-17 20:24:00 2005-06-23 17:45:00                  0  \n",
       "...          ...                 ...                 ...                ...  \n",
       "16039        711 2005-05-29 03:49:03 2005-05-31 08:29:03                  0  \n",
       "16040       1493 2005-06-15 21:50:32 2005-06-17 01:02:32                  0  \n",
       "16041       6712 2005-07-12 13:24:47 2005-07-20 09:35:47                  0  \n",
       "16042       9701 2005-07-31 07:32:21 2005-08-01 05:07:21                  0  \n",
       "16043      12894 2005-08-19 03:49:28 2005-08-25 01:51:28                  1  \n",
       "\n",
       "[16044 rows x 10 columns]"
      ]
     },
     "execution_count": 10,
     "metadata": {},
     "output_type": "execute_result"
    }
   ],
   "source": [
    "df_2"
   ]
  },
  {
   "cell_type": "code",
   "execution_count": 11,
   "metadata": {},
   "outputs": [],
   "source": [
    "df_2['rented_last_month'] = df_2['rented_last_month'].astype('bool')"
   ]
  },
  {
   "cell_type": "code",
   "execution_count": 12,
   "metadata": {},
   "outputs": [],
   "source": [
    "#Analyze extracted features and transform them. You may need to encode some categorical variables, or scale numerical variables."
   ]
  },
  {
   "cell_type": "code",
   "execution_count": 13,
   "metadata": {},
   "outputs": [],
   "source": [
    "#dropping columns\n",
    "df_2 = df_2.drop(['rental_date'], axis=1)\n",
    "df_2 = df_2.drop(['return_date'], axis=1)\n",
    "df_2 = df_2.drop(['inventory_id'], axis=1)\n",
    "#df_2 = df_2.drop(['film_id'], axis=1)\n",
    "df_2 = df_2.drop(['title'], axis=1)\n",
    "df_2 = df_2.drop(['rental_id'], axis=1)\n"
   ]
  },
  {
   "cell_type": "code",
   "execution_count": 14,
   "metadata": {},
   "outputs": [
    {
     "data": {
      "text/plain": [
       "rented_last_month\n",
       "False    10358\n",
       "True      5686\n",
       "Name: count, dtype: int64"
      ]
     },
     "execution_count": 14,
     "metadata": {},
     "output_type": "execute_result"
    }
   ],
   "source": [
    "df_2.rented_last_month.value_counts()"
   ]
  },
  {
   "cell_type": "code",
   "execution_count": 15,
   "metadata": {},
   "outputs": [
    {
     "data": {
      "text/plain": [
       "rating\n",
       "PG-13    3585\n",
       "NC-17    3293\n",
       "PG       3212\n",
       "R        3181\n",
       "G        2773\n",
       "Name: count, dtype: int64"
      ]
     },
     "execution_count": 15,
     "metadata": {},
     "output_type": "execute_result"
    }
   ],
   "source": [
    "df_2.rating.value_counts()"
   ]
  },
  {
   "cell_type": "code",
   "execution_count": 16,
   "metadata": {},
   "outputs": [
    {
     "name": "stdout",
     "output_type": "stream",
     "text": [
      "<class 'pandas.core.frame.DataFrame'>\n",
      "RangeIndex: 16044 entries, 0 to 16043\n",
      "Data columns (total 5 columns):\n",
      " #   Column             Non-Null Count  Dtype  \n",
      "---  ------             --------------  -----  \n",
      " 0   rating             16044 non-null  object \n",
      " 1   rental_rate        16044 non-null  float64\n",
      " 2   length             16044 non-null  int64  \n",
      " 3   film_id            16044 non-null  object \n",
      " 4   rented_last_month  16044 non-null  bool   \n",
      "dtypes: bool(1), float64(1), int64(1), object(2)\n",
      "memory usage: 517.2+ KB\n"
     ]
    }
   ],
   "source": [
    "df_2.info()"
   ]
  },
  {
   "cell_type": "code",
   "execution_count": 17,
   "metadata": {},
   "outputs": [
    {
     "data": {
      "text/html": [
       "<div>\n",
       "<style scoped>\n",
       "    .dataframe tbody tr th:only-of-type {\n",
       "        vertical-align: middle;\n",
       "    }\n",
       "\n",
       "    .dataframe tbody tr th {\n",
       "        vertical-align: top;\n",
       "    }\n",
       "\n",
       "    .dataframe thead th {\n",
       "        text-align: right;\n",
       "    }\n",
       "</style>\n",
       "<table border=\"1\" class=\"dataframe\">\n",
       "  <thead>\n",
       "    <tr style=\"text-align: right;\">\n",
       "      <th></th>\n",
       "      <th>rating</th>\n",
       "      <th>rental_rate</th>\n",
       "      <th>length</th>\n",
       "      <th>film_id</th>\n",
       "      <th>rented_last_month</th>\n",
       "    </tr>\n",
       "  </thead>\n",
       "  <tbody>\n",
       "    <tr>\n",
       "      <th>0</th>\n",
       "      <td>PG</td>\n",
       "      <td>0.99</td>\n",
       "      <td>86</td>\n",
       "      <td>1</td>\n",
       "      <td>False</td>\n",
       "    </tr>\n",
       "    <tr>\n",
       "      <th>1</th>\n",
       "      <td>PG</td>\n",
       "      <td>0.99</td>\n",
       "      <td>86</td>\n",
       "      <td>1</td>\n",
       "      <td>True</td>\n",
       "    </tr>\n",
       "    <tr>\n",
       "      <th>2</th>\n",
       "      <td>PG</td>\n",
       "      <td>0.99</td>\n",
       "      <td>86</td>\n",
       "      <td>1</td>\n",
       "      <td>True</td>\n",
       "    </tr>\n",
       "    <tr>\n",
       "      <th>3</th>\n",
       "      <td>PG</td>\n",
       "      <td>0.99</td>\n",
       "      <td>86</td>\n",
       "      <td>1</td>\n",
       "      <td>False</td>\n",
       "    </tr>\n",
       "    <tr>\n",
       "      <th>4</th>\n",
       "      <td>PG</td>\n",
       "      <td>0.99</td>\n",
       "      <td>86</td>\n",
       "      <td>1</td>\n",
       "      <td>False</td>\n",
       "    </tr>\n",
       "    <tr>\n",
       "      <th>...</th>\n",
       "      <td>...</td>\n",
       "      <td>...</td>\n",
       "      <td>...</td>\n",
       "      <td>...</td>\n",
       "      <td>...</td>\n",
       "    </tr>\n",
       "    <tr>\n",
       "      <th>16039</th>\n",
       "      <td>NC-17</td>\n",
       "      <td>4.99</td>\n",
       "      <td>50</td>\n",
       "      <td>1000</td>\n",
       "      <td>False</td>\n",
       "    </tr>\n",
       "    <tr>\n",
       "      <th>16040</th>\n",
       "      <td>NC-17</td>\n",
       "      <td>4.99</td>\n",
       "      <td>50</td>\n",
       "      <td>1000</td>\n",
       "      <td>False</td>\n",
       "    </tr>\n",
       "    <tr>\n",
       "      <th>16041</th>\n",
       "      <td>NC-17</td>\n",
       "      <td>4.99</td>\n",
       "      <td>50</td>\n",
       "      <td>1000</td>\n",
       "      <td>False</td>\n",
       "    </tr>\n",
       "    <tr>\n",
       "      <th>16042</th>\n",
       "      <td>NC-17</td>\n",
       "      <td>4.99</td>\n",
       "      <td>50</td>\n",
       "      <td>1000</td>\n",
       "      <td>False</td>\n",
       "    </tr>\n",
       "    <tr>\n",
       "      <th>16043</th>\n",
       "      <td>NC-17</td>\n",
       "      <td>4.99</td>\n",
       "      <td>50</td>\n",
       "      <td>1000</td>\n",
       "      <td>True</td>\n",
       "    </tr>\n",
       "  </tbody>\n",
       "</table>\n",
       "<p>16044 rows × 5 columns</p>\n",
       "</div>"
      ],
      "text/plain": [
       "      rating  rental_rate  length film_id  rented_last_month\n",
       "0         PG         0.99      86       1              False\n",
       "1         PG         0.99      86       1               True\n",
       "2         PG         0.99      86       1               True\n",
       "3         PG         0.99      86       1              False\n",
       "4         PG         0.99      86       1              False\n",
       "...      ...          ...     ...     ...                ...\n",
       "16039  NC-17         4.99      50    1000              False\n",
       "16040  NC-17         4.99      50    1000              False\n",
       "16041  NC-17         4.99      50    1000              False\n",
       "16042  NC-17         4.99      50    1000              False\n",
       "16043  NC-17         4.99      50    1000               True\n",
       "\n",
       "[16044 rows x 5 columns]"
      ]
     },
     "execution_count": 17,
     "metadata": {},
     "output_type": "execute_result"
    }
   ],
   "source": [
    "df_2"
   ]
  },
  {
   "cell_type": "code",
   "execution_count": 18,
   "metadata": {},
   "outputs": [],
   "source": [
    "from sklearn.metrics import classification_report\n",
    "import pandas as pd\n",
    "import numpy as np\n",
    "from sklearn.model_selection import train_test_split\n",
    "from sklearn.pipeline import Pipeline\n",
    "from sklearn.impute import SimpleImputer\n",
    "from sklearn.preprocessing import OneHotEncoder, StandardScaler, LabelEncoder\n",
    "from sklearn.compose import ColumnTransformer\n",
    "from sklearn.linear_model import LogisticRegression\n",
    "from sklearn.metrics import accuracy_score, f1_score, ConfusionMatrixDisplay, RocCurveDisplay\n",
    "import matplotlib.pyplot as plt\n",
    "import warnings\n",
    "warnings.filterwarnings(\"ignore\", category = DeprecationWarning)\n",
    "import seaborn as sns\n",
    "import plotly.express as px\n",
    "import plotly.graph_objects as go\n",
    "import plotly.io as pio"
   ]
  },
  {
   "cell_type": "code",
   "execution_count": 19,
   "metadata": {},
   "outputs": [],
   "source": [
    "X = df_2.iloc[:, :-1] # explanatory variables\n",
    "\n",
    "y = df_2.iloc[:,-1] #  target variable"
   ]
  },
  {
   "cell_type": "code",
   "execution_count": 20,
   "metadata": {},
   "outputs": [
    {
     "data": {
      "text/plain": [
       "rented_last_month\n",
       "False    0.6456\n",
       "True     0.3544\n",
       "Name: count, dtype: float64"
      ]
     },
     "execution_count": 20,
     "metadata": {},
     "output_type": "execute_result"
    }
   ],
   "source": [
    "y.value_counts()/len(y)"
   ]
  },
  {
   "cell_type": "code",
   "execution_count": 21,
   "metadata": {},
   "outputs": [],
   "source": [
    "numeric_features = ['rental_rate', 'length']\n",
    "\n",
    "categorical_features = [\"rating\",'film_id']"
   ]
  },
  {
   "cell_type": "code",
   "execution_count": 22,
   "metadata": {},
   "outputs": [],
   "source": [
    "numeric_transformer = Pipeline(steps = [(\"imputer\", SimpleImputer(strategy=\"mean\")),(\"scaler\", StandardScaler())])\n",
    "\n",
    "categorical_transformer = OneHotEncoder(drop = \"first\") "
   ]
  },
  {
   "cell_type": "code",
   "execution_count": 23,
   "metadata": {},
   "outputs": [],
   "source": [
    "preprocessor = ColumnTransformer(\n",
    "            transformers = [(\"numerical\", numeric_transformer, numeric_features),\n",
    "                            (\"categorical\", categorical_transformer, categorical_features)]\n",
    ")\n"
   ]
  },
  {
   "cell_type": "code",
   "execution_count": 24,
   "metadata": {},
   "outputs": [],
   "source": [
    "X_train, X_test, y_train, y_test = train_test_split(X,y, test_size = 0.25, random_state =42)"
   ]
  },
  {
   "cell_type": "code",
   "execution_count": 25,
   "metadata": {},
   "outputs": [],
   "source": [
    "X_train = preprocessor.fit_transform(X_train)\n",
    "X_test = preprocessor.transform(X_test)"
   ]
  },
  {
   "cell_type": "code",
   "execution_count": 26,
   "metadata": {},
   "outputs": [],
   "source": [
    "encoder = LabelEncoder()\n",
    "\n",
    "y_train = encoder.fit_transform(y_train)\n",
    "y_test = encoder.transform(y_test)"
   ]
  },
  {
   "cell_type": "code",
   "execution_count": 27,
   "metadata": {},
   "outputs": [],
   "source": [
    "#Create a logistic regression model to predict this variable from the cleaned data.\n"
   ]
  },
  {
   "cell_type": "code",
   "execution_count": 28,
   "metadata": {},
   "outputs": [
    {
     "data": {
      "text/html": [
       "<style>#sk-container-id-1 {color: black;background-color: white;}#sk-container-id-1 pre{padding: 0;}#sk-container-id-1 div.sk-toggleable {background-color: white;}#sk-container-id-1 label.sk-toggleable__label {cursor: pointer;display: block;width: 100%;margin-bottom: 0;padding: 0.3em;box-sizing: border-box;text-align: center;}#sk-container-id-1 label.sk-toggleable__label-arrow:before {content: \"▸\";float: left;margin-right: 0.25em;color: #696969;}#sk-container-id-1 label.sk-toggleable__label-arrow:hover:before {color: black;}#sk-container-id-1 div.sk-estimator:hover label.sk-toggleable__label-arrow:before {color: black;}#sk-container-id-1 div.sk-toggleable__content {max-height: 0;max-width: 0;overflow: hidden;text-align: left;background-color: #f0f8ff;}#sk-container-id-1 div.sk-toggleable__content pre {margin: 0.2em;color: black;border-radius: 0.25em;background-color: #f0f8ff;}#sk-container-id-1 input.sk-toggleable__control:checked~div.sk-toggleable__content {max-height: 200px;max-width: 100%;overflow: auto;}#sk-container-id-1 input.sk-toggleable__control:checked~label.sk-toggleable__label-arrow:before {content: \"▾\";}#sk-container-id-1 div.sk-estimator input.sk-toggleable__control:checked~label.sk-toggleable__label {background-color: #d4ebff;}#sk-container-id-1 div.sk-label input.sk-toggleable__control:checked~label.sk-toggleable__label {background-color: #d4ebff;}#sk-container-id-1 input.sk-hidden--visually {border: 0;clip: rect(1px 1px 1px 1px);clip: rect(1px, 1px, 1px, 1px);height: 1px;margin: -1px;overflow: hidden;padding: 0;position: absolute;width: 1px;}#sk-container-id-1 div.sk-estimator {font-family: monospace;background-color: #f0f8ff;border: 1px dotted black;border-radius: 0.25em;box-sizing: border-box;margin-bottom: 0.5em;}#sk-container-id-1 div.sk-estimator:hover {background-color: #d4ebff;}#sk-container-id-1 div.sk-parallel-item::after {content: \"\";width: 100%;border-bottom: 1px solid gray;flex-grow: 1;}#sk-container-id-1 div.sk-label:hover label.sk-toggleable__label {background-color: #d4ebff;}#sk-container-id-1 div.sk-serial::before {content: \"\";position: absolute;border-left: 1px solid gray;box-sizing: border-box;top: 0;bottom: 0;left: 50%;z-index: 0;}#sk-container-id-1 div.sk-serial {display: flex;flex-direction: column;align-items: center;background-color: white;padding-right: 0.2em;padding-left: 0.2em;position: relative;}#sk-container-id-1 div.sk-item {position: relative;z-index: 1;}#sk-container-id-1 div.sk-parallel {display: flex;align-items: stretch;justify-content: center;background-color: white;position: relative;}#sk-container-id-1 div.sk-item::before, #sk-container-id-1 div.sk-parallel-item::before {content: \"\";position: absolute;border-left: 1px solid gray;box-sizing: border-box;top: 0;bottom: 0;left: 50%;z-index: -1;}#sk-container-id-1 div.sk-parallel-item {display: flex;flex-direction: column;z-index: 1;position: relative;background-color: white;}#sk-container-id-1 div.sk-parallel-item:first-child::after {align-self: flex-end;width: 50%;}#sk-container-id-1 div.sk-parallel-item:last-child::after {align-self: flex-start;width: 50%;}#sk-container-id-1 div.sk-parallel-item:only-child::after {width: 0;}#sk-container-id-1 div.sk-dashed-wrapped {border: 1px dashed gray;margin: 0 0.4em 0.5em 0.4em;box-sizing: border-box;padding-bottom: 0.4em;background-color: white;}#sk-container-id-1 div.sk-label label {font-family: monospace;font-weight: bold;display: inline-block;line-height: 1.2em;}#sk-container-id-1 div.sk-label-container {text-align: center;}#sk-container-id-1 div.sk-container {/* jupyter's `normalize.less` sets `[hidden] { display: none; }` but bootstrap.min.css set `[hidden] { display: none !important; }` so we also need the `!important` here to be able to override the default hidden behavior on the sphinx rendered scikit-learn.org. See: https://github.com/scikit-learn/scikit-learn/issues/21755 */display: inline-block !important;position: relative;}#sk-container-id-1 div.sk-text-repr-fallback {display: none;}</style><div id=\"sk-container-id-1\" class=\"sk-top-container\"><div class=\"sk-text-repr-fallback\"><pre>LogisticRegression()</pre><b>In a Jupyter environment, please rerun this cell to show the HTML representation or trust the notebook. <br />On GitHub, the HTML representation is unable to render, please try loading this page with nbviewer.org.</b></div><div class=\"sk-container\" hidden><div class=\"sk-item\"><div class=\"sk-estimator sk-toggleable\"><input class=\"sk-toggleable__control sk-hidden--visually\" id=\"sk-estimator-id-1\" type=\"checkbox\" checked><label for=\"sk-estimator-id-1\" class=\"sk-toggleable__label sk-toggleable__label-arrow\">LogisticRegression</label><div class=\"sk-toggleable__content\"><pre>LogisticRegression()</pre></div></div></div></div></div>"
      ],
      "text/plain": [
       "LogisticRegression()"
      ]
     },
     "execution_count": 28,
     "metadata": {},
     "output_type": "execute_result"
    }
   ],
   "source": [
    "classifier = LogisticRegression()\n",
    "classifier.fit(X_train, y_train)"
   ]
  },
  {
   "cell_type": "code",
   "execution_count": 29,
   "metadata": {},
   "outputs": [
    {
     "data": {
      "text/plain": [
       "array([0, 0, 0, ..., 0, 0, 0], dtype=int64)"
      ]
     },
     "metadata": {},
     "output_type": "display_data"
    },
    {
     "data": {
      "text/plain": [
       "array([0, 0, 1, ..., 0, 0, 0], dtype=int64)"
      ]
     },
     "metadata": {},
     "output_type": "display_data"
    }
   ],
   "source": [
    "pred_train = classifier.predict(X_train)\n",
    "display(pred_train)\n",
    "\n",
    "pred_test = classifier.predict(X_test)\n",
    "display(pred_test)"
   ]
  },
  {
   "cell_type": "code",
   "execution_count": 30,
   "metadata": {},
   "outputs": [
    {
     "data": {
      "text/plain": [
       "array([[0.70351337, 0.29648663],\n",
       "       [0.60296   , 0.39704   ],\n",
       "       [0.68203602, 0.31796398],\n",
       "       ...,\n",
       "       [0.63615788, 0.36384212],\n",
       "       [0.6266225 , 0.3733775 ],\n",
       "       [0.61498927, 0.38501073]])"
      ]
     },
     "metadata": {},
     "output_type": "display_data"
    },
    {
     "data": {
      "text/plain": [
       "array([[0.69991777, 0.30008223],\n",
       "       [0.75505392, 0.24494608],\n",
       "       [0.45515518, 0.54484482],\n",
       "       ...,\n",
       "       [0.60290337, 0.39709663],\n",
       "       [0.72327873, 0.27672127],\n",
       "       [0.66288056, 0.33711944]])"
      ]
     },
     "metadata": {},
     "output_type": "display_data"
    }
   ],
   "source": [
    "prob_train = classifier.predict_proba(X_train)\n",
    "\n",
    "display(prob_train)\n",
    "\n",
    "prob_test = classifier.predict_proba(X_test)\n",
    "display(prob_test)"
   ]
  },
  {
   "cell_type": "code",
   "execution_count": 31,
   "metadata": {},
   "outputs": [
    {
     "name": "stdout",
     "output_type": "stream",
     "text": [
      "accuracy on train set 0.6524557466965843\n",
      "accuracy on test set 0.631762652705061\n",
      "f1 score on train set 0.1102127659574468\n",
      "f1 score on test set 0.04771115409413282\n"
     ]
    }
   ],
   "source": [
    "print(\"accuracy on train set\", accuracy_score(y_train, pred_train))\n",
    "print(\"accuracy on test set\", accuracy_score(y_test, pred_test))\n",
    "print(\"f1 score on train set\", f1_score(y_train, pred_train))\n",
    "print(\"f1 score on test set\", f1_score(y_test, pred_test))"
   ]
  },
  {
   "cell_type": "code",
   "execution_count": 32,
   "metadata": {},
   "outputs": [
    {
     "name": "stdout",
     "output_type": "stream",
     "text": [
      "              precision    recall  f1-score   support\n",
      "\n",
      "           0       0.65      0.98      0.78      7746\n",
      "           1       0.63      0.06      0.11      4287\n",
      "\n",
      "    accuracy                           0.65     12033\n",
      "   macro avg       0.64      0.52      0.45     12033\n",
      "weighted avg       0.64      0.65      0.54     12033\n",
      "\n",
      "              precision    recall  f1-score   support\n",
      "\n",
      "           0       0.65      0.96      0.77      2612\n",
      "           1       0.24      0.03      0.05      1399\n",
      "\n",
      "    accuracy                           0.63      4011\n",
      "   macro avg       0.45      0.49      0.41      4011\n",
      "weighted avg       0.51      0.63      0.52      4011\n",
      "\n"
     ]
    }
   ],
   "source": [
    "print(classification_report(y_train, pred_train))\n",
    "\n",
    "print(classification_report(y_test, pred_test))"
   ]
  },
  {
   "cell_type": "code",
   "execution_count": 33,
   "metadata": {},
   "outputs": [],
   "source": [
    "#Evaluate the results."
   ]
  },
  {
   "cell_type": "code",
   "execution_count": null,
   "metadata": {},
   "outputs": [],
   "source": []
  },
  {
   "cell_type": "code",
   "execution_count": null,
   "metadata": {},
   "outputs": [],
   "source": []
  },
  {
   "cell_type": "code",
   "execution_count": null,
   "metadata": {},
   "outputs": [],
   "source": []
  },
  {
   "cell_type": "code",
   "execution_count": null,
   "metadata": {},
   "outputs": [],
   "source": []
  }
 ],
 "metadata": {
  "kernelspec": {
   "display_name": "base",
   "language": "python",
   "name": "python3"
  },
  "language_info": {
   "codemirror_mode": {
    "name": "ipython",
    "version": 3
   },
   "file_extension": ".py",
   "mimetype": "text/x-python",
   "name": "python",
   "nbconvert_exporter": "python",
   "pygments_lexer": "ipython3",
   "version": "3.11.7"
  }
 },
 "nbformat": 4,
 "nbformat_minor": 2
}
